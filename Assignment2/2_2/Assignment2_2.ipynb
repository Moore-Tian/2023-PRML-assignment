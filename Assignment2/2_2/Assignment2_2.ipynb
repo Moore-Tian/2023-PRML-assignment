{
 "cells": [
  {
   "cell_type": "markdown",
   "metadata": {
    "collapsed": false
   },
   "source": [
    "# FDU PRML 2023 Fall Assignment 2.1\n",
    "\n",
    "Name: <田沐钊> \n",
    "Student ID: <21307140069>\n",
    "\n",
    "<font color='red'>**Deadline: 2023-11-20 23:59**</font>\n",
    "<font color='red'>**Overall score weight: 70/100**</font>\n",
    "\n",
    "In this semester, we are going to complete 3 assignments, each may contain **2-3 parts**. This is the second (and the last) part of the second assignment, in which we will get to implement our own Pytorch-like library.\n",
    "\n",
    "## 1. FDUNN: your toy torch-like deep learning library (40 points)\n",
    "\n",
    "In this assignment, you will fist implement your own torch-like deep learning library with `numpy`, named `fdunn`.\n",
    "\n",
    "PyTorch: [Link](https://pytorch.org/)"
   ]
  },
  {
   "cell_type": "code",
   "execution_count": 1,
   "metadata": {
    "collapsed": false,
    "pycharm": {
     "name": "#%%\n"
    }
   },
   "outputs": [],
   "source": [
    "# setup code, auto reload your .py file\n",
    "%load_ext autoreload\n",
    "%autoreload 2"
   ]
  },
  {
   "cell_type": "code",
   "execution_count": 2,
   "metadata": {
    "collapsed": false,
    "pycharm": {
     "name": "#%%\n"
    }
   },
   "outputs": [],
   "source": [
    "# numpy\n",
    "import numpy as np\n",
    "np.random.seed(233)"
   ]
  },
  {
   "cell_type": "code",
   "execution_count": 3,
   "metadata": {
    "collapsed": false,
    "pycharm": {
     "name": "#%%\n"
    }
   },
   "outputs": [],
   "source": [
    "# matplotlib\n",
    "%matplotlib inline\n",
    "from matplotlib import pyplot as plt"
   ]
  },
  {
   "cell_type": "markdown",
   "metadata": {
    "collapsed": false
   },
   "source": [
    "You have to impletement several standard deep neural network modules in the `./fdunn` folder:\n",
    "1.   linear/conv/pooling\n",
    "2.   activation\n",
    "3.   loss\n",
    "4.   optim\n",
    "5.   trainer\n",
    "\n",
    "We have written most of the code for you already, and you only need to fill in the most essential parts. We have also prepared several test cases for you to check if your code works correctly.\n",
    "\n",
    "Furthermore, you can also test the accuracy of your code by comparing its output with the output of sk-learn."
   ]
  },
  {
   "cell_type": "code",
   "execution_count": 4,
   "metadata": {
    "collapsed": false,
    "pycharm": {
     "name": "#%%\n"
    }
   },
   "outputs": [],
   "source": [
    "from fdunn import *\n"
   ]
  },
  {
   "cell_type": "markdown",
   "metadata": {
    "collapsed": false
   },
   "source": [
    "## 2. Deep Learning with Image/Text Data (20 points)\n",
    "\n",
    "Use your fdunn lib to perform image classification on MNIST or CIFAR10 dataset.\n",
    "\n",
    "- MNIST: http://yann.lecun.com/exdb/mnist/\n",
    "- CIFAR10: https://www.cs.toronto.edu/~kriz/cifar.html"
   ]
  },
  {
   "cell_type": "markdown",
   "metadata": {},
   "source": [
    "一些说明：  \n",
    "这里由于不需要实现metrics，故对trainer进行了一定的修改。   \n",
    "此外，为了方便代码的实现，在一定程度上简化了某些模块的信息输入（比如默认卷积的步长和padding为1，并将卷积和池化的步长设为常数而不是一个元组）。  \n",
    "此外，在最开始的实现中，我的卷积运算和池化运算均使用了至少四重循环，导致程序的运行速度极慢，运行一个epoch需要23小时40分钟，故尝试优化。在第二版算法中，大范围使用了numpy的广播算法进行优化，使循环层数降到了两层，运行一个epoch需要40分钟，虽然已经有了相当大的提升，但明显还是太慢。此后又尝试使用了python自带的concurrent包来实现并行操作，但效果并不好。故在一系列的资料查询后，尝试使用快速卷积算法来对算法进行优化，即将卷积核和存储格式为NCHW的原矩阵均拉成列并拼接为新的二维矩阵，便可将卷积运算转化为矩阵乘法运算。由于numpy内置的矩阵乘法运算有许多底层上的算法优化和并行处理，故计算速度比常规的for循环以及传统的卷积运算要快许多。（原理如下图所示）  \n",
    "![](原理.png)  \n",
    "\n",
    "  \n",
    "此外，为了实现原矩阵的转换，这里使用了im2col方法。卷积层同理，也使用了类似的优化。而这些转换函数则统一存在了modules的utils.py文件中。  \n",
    "而现在的程序可以在不到一分钟的时间内跑完一个epoch，且准确率可以相当快速地提高。（具体的运行时间在下面的进度条旁边有显示）"
   ]
  },
  {
   "cell_type": "code",
   "execution_count": 5,
   "metadata": {
    "collapsed": false,
    "is_executing": true
   },
   "outputs": [],
   "source": [
    "import torch\n",
    "import torchvision\n",
    "import torchvision.transforms as transforms\n",
    "\n",
    "# Download and preprocess the MNIST dataset\n",
    "transform = transforms.Compose([transforms.ToTensor()])\n",
    "\n",
    "train_dataset = torchvision.datasets.MNIST(root='./mnist_data', train=True, download=True, transform=transform)\n",
    "\n",
    "test_dataset = torchvision.datasets.MNIST(root='./mnist_data', train=False, transform=transform, download=True)\n",
    "\n",
    "train_loader = torch.utils.data.DataLoader(dataset=train_dataset, batch_size=16, shuffle=True)\n",
    "test_loader = torch.utils.data.DataLoader(dataset=test_dataset, batch_size=16, shuffle=False)\n",
    "\n"
   ]
  },
  {
   "cell_type": "code",
   "execution_count": 6,
   "metadata": {},
   "outputs": [],
   "source": [
    "from fdunn.modules.base import Module\n",
    "from fdunn.modules.activation import Sigmoid\n",
    "from fdunn.modules.conv import Conv2d\n",
    "from fdunn.modules.linear import Linear\n",
    "from fdunn.modules.pooling import MaxPool2d\n",
    "\n",
    "# 构建CNN模型\n",
    "class CNN(Module):\n",
    "    def __init__(self):\n",
    "        super(CNN, self).__init__()\n",
    "        self.layers = [\n",
    "            Conv2d(1, 4, (3, 3)),\n",
    "            Sigmoid(),\n",
    "            MaxPool2d((2, 2), 2),\n",
    "            Conv2d(4, 8, (3, 3)),\n",
    "            Sigmoid(),\n",
    "            MaxPool2d((2, 2), 2),\n",
    "            Linear(8 * 7 * 7, 100),\n",
    "            Sigmoid(),\n",
    "            Linear(100, 10)\n",
    "        ]\n",
    "\n",
    "    def forward(self, x):\n",
    "        x = self.layers[2](self.layers[1](self.layers[0](x)))\n",
    "        x = self.layers[5](self.layers[4](self.layers[3](x)))\n",
    "        x = x.reshape(x.shape[0], -1)\n",
    "        x = self.layers[7](self.layers[6](x))\n",
    "        x = self.layers[8](x)\n",
    "        return x\n",
    "    \n",
    "    def backward(self, output_grad):\n",
    "        input_grad = self.layers[8].backward(output_grad)\n",
    "        input_grad = self.layers[7].backward(input_grad)\n",
    "        input_grad = self.layers[6].backward(input_grad)\n",
    "        input_grad = self.layers[5].backward(input_grad.reshape(input_grad.shape[0], 8, 7, 7))\n",
    "        input_grad = self.layers[4].backward(input_grad)\n",
    "        input_grad = self.layers[3].backward(input_grad) \n",
    "        input_grad = self.layers[2].backward(input_grad)\n",
    "        input_grad = self.layers[1].backward(input_grad)\n",
    "        input_grad = self.layers[0].backward(input_grad)\n"
   ]
  },
  {
   "cell_type": "code",
   "execution_count": 7,
   "metadata": {},
   "outputs": [
    {
     "data": {
      "image/png": "[encoded data removed]",
      "text/plain": [
       "<Figure size 640x480 with 1 Axes>"
      ]
     },
     "metadata": {},
     "output_type": "display_data"
    },
    {
     "data": {
      "image/png": "[encoded data removed]",
      "text/plain": [
       "<Figure size 640x480 with 1 Axes>"
      ]
     },
     "metadata": {},
     "output_type": "display_data"
    }
   ],
   "source": [
    "\n",
    "from fdunn.modules.loss import CrossEntropyLoss\n",
    "from fdunn.optim.sgd import SGD\n",
    "from fdunn.trainer import Trainer\n",
    "\n",
    "# 开始训练\n",
    "CNN_net = CNN()\n",
    "loss_fn = CrossEntropyLoss(CNN_net, 10)\n",
    "learning_rate = 0.01\n",
    "optimizer = SGD(CNN_net, lr=learning_rate)\n",
    "\n",
    "epoch = 10\n",
    "\n",
    "trainer = Trainer(CNN_net, optimizer, loss_fn, epoch)\n",
    "trainer.train(train_loader, test_loader)\n",
    "\n",
    "train_loss = trainer.train_loss\n",
    "valid_loss = trainer.valid_loss\n",
    "valid_scores = trainer.valid_scores\n",
    "\n",
    "x = range(epoch)\n",
    "plt.plot(x, train_loss, label='train loss')\n",
    "plt.plot(x, valid_loss, label='valid loss')\n",
    "plt.title('Loss')\n",
    "plt.xlabel('epoch')\n",
    "plt.ylabel('loss')\n",
    "plt.legend()\n",
    "plt.show()\n",
    "\n",
    "plt.plot(x, valid_scores, label='valid score')\n",
    "plt.title('Accuracy')\n",
    "plt.xlabel('epoch')\n",
    "plt.ylabel('accuracy')\n",
    "plt.legend()\n",
    "plt.show()\n"
   ]
  },
  {
   "cell_type": "markdown",
   "metadata": {
    "collapsed": false
   },
   "source": [
    "## 3. Advanced Topics (10 points)\n",
    "\n",
    "You can try to implement some advanced topics in deep learning with our fdunn in this section.\n",
    "\n",
    "We will divide the topics into two categories: modules and optimization, with 5 points for each category.\n",
    "\n",
    "### 3.1 Modules\n",
    "\n",
    "Pick one of the following (trending or classic) topics and implement it with fdunn. Try to implement it and design a toy test case to show that your implementation is correct (say we can compare the forward and backward results with the results of corresponding Pytorch modules with the same weight).\n",
    "\n",
    "- Batch/Layer/Group Normalization (just one of them is fine)\n",
    "- A ReLU/GeLU/SiLU activation function (just one of them is fine)\n",
    "- A Gated Linear Unit (GLU)\n",
    "- An RNN cell\n",
    "- Or any other modules you are interested in\n",
    "\n",
    "\n",
    "### 3.2 Optimization\n",
    "\n",
    "Pick one of the following optimization methods and implement it with fdunn.\n",
    "\n",
    "- SGD with L2 regularization. (Try to repeat your experiment in Assignment 1.1 to see the same 'underregularization' to 'overregularization' phenomenon)\n",
    "- Adam (Does it converge faster than SGD in the last section?)\n",
    "- Or any other optimization methods you are interested in (I am far from an expert in optimization, so maybe you can teach me something new here. Say a second order method?)\n",
    "\n",
    "\n",
    "If you are not sure about what to do, We suggest you to implement the ReLU activation function and SGD with L2 regularization. They are foundamental and (relatively) easy to implement.\n",
    "\n",
    "Different methods do not vary in scores. So do not chase fancy methods unless you are quite interested in them.\n",
    "\n",
    "There are many ways to prove your implementation is correct, as long as they are convincing."
   ]
  },
  {
   "cell_type": "code",
   "execution_count": 8,
   "metadata": {
    "collapsed": false
   },
   "outputs": [
    {
     "data": {
      "image/png": "[encoded data removed]",
      "text/plain": [
       "<Figure size 640x480 with 1 Axes>"
      ]
     },
     "metadata": {},
     "output_type": "display_data"
    },
    {
     "data": {
      "image/png": "[encoded data removed]",
      "text/plain": [
       "<Figure size 640x480 with 1 Axes>"
      ]
     },
     "metadata": {},
     "output_type": "display_data"
    }
   ],
   "source": [
    "from fdunn.modules.activation import ReLU\n",
    "\n",
    "# 构建CNN模型\n",
    "class ReLU_CNN(Module):\n",
    "    def __init__(self):\n",
    "        super(CNN, self).__init__()\n",
    "        self.layers = [\n",
    "            Conv2d(1, 4, (3, 3)),\n",
    "            ReLU(),\n",
    "            MaxPool2d((2, 2), 2),\n",
    "            Conv2d(4, 8, (3, 3)),\n",
    "            ReLU(),\n",
    "            MaxPool2d((2, 2), 2),\n",
    "            Linear(8 * 7 * 7, 100),\n",
    "            ReLU(),\n",
    "            Linear(100, 10)\n",
    "        ]\n",
    "\n",
    "    def forward(self, x):\n",
    "        x = self.layers[2](self.layers[1](self.layers[0](x)))\n",
    "        x = self.layers[5](self.layers[4](self.layers[3](x)))\n",
    "        x = x.reshape(x.shape[0], -1)\n",
    "        x = self.layers[7](self.layers[6](x))\n",
    "        x = self.layers[8](x)\n",
    "        return x\n",
    "    \n",
    "    def backward(self, output_grad):\n",
    "        input_grad = self.layers[8].backward(output_grad)\n",
    "        input_grad = self.layers[7].backward(input_grad)\n",
    "        input_grad = self.layers[6].backward(input_grad)\n",
    "        input_grad = self.layers[5].backward(input_grad.reshape(input_grad.shape[0], 8, 7, 7))\n",
    "        input_grad = self.layers[4].backward(input_grad)\n",
    "        input_grad = self.layers[3].backward(input_grad) \n",
    "        input_grad = self.layers[2].backward(input_grad)\n",
    "        input_grad = self.layers[1].backward(input_grad)\n",
    "        input_grad = self.layers[0].backward(input_grad)\n",
    "\n",
    "\n",
    "# 开始训练\n",
    "CNN_net = CNN()\n",
    "loss_fn = CrossEntropyLoss(CNN_net, 10)\n",
    "learning_rate = 0.01\n",
    "optimizer = SGD(CNN_net, lr=learning_rate)\n",
    "\n",
    "epoch = 10\n",
    "\n",
    "ReLU_trainer = Trainer(CNN_net, optimizer, loss_fn, epoch)\n",
    "ReLU_trainer.train(train_loader, test_loader)\n",
    "\n",
    "train_loss = ReLU_trainer.train_loss\n",
    "valid_loss = ReLU_trainer.valid_loss\n",
    "valid_scores = ReLU_trainer.valid_scores\n",
    "\n",
    "x = range(epoch)\n",
    "plt.plot(x, train_loss, label='train loss')\n",
    "plt.plot(x, valid_loss, label='valid loss')\n",
    "plt.title('Loss')\n",
    "plt.xlabel('epoch')\n",
    "plt.ylabel('loss')\n",
    "plt.legend()\n",
    "plt.show()\n",
    "\n",
    "plt.plot(x, valid_scores, label='valid score')\n",
    "plt.title('Accuracy')\n",
    "plt.xlabel('epoch')\n",
    "plt.ylabel('accuracy')\n",
    "plt.legend()\n",
    "plt.show()"
   ]
  },
  {
   "cell_type": "code",
   "execution_count": 9,
   "metadata": {},
   "outputs": [
    {
     "name": "stdout",
     "output_type": "stream",
     "text": [
      "epoch: 0\n"
     ]
    },
    {
     "name": "stderr",
     "output_type": "stream",
     "text": [
      "100%|██████████| 3750/3750 [01:27<00:00, 42.91it/s]\n"
     ]
    },
    {
     "name": "stdout",
     "output_type": "stream",
     "text": [
      "loss:  0.08573456866416161\n",
      "accuracy:  0.971\n",
      "epoch: 1\n"
     ]
    },
    {
     "name": "stderr",
     "output_type": "stream",
     "text": [
      " 89%|████████▊ | 3325/3750 [01:16<00:09, 43.56it/s]\n"
     ]
    },
    {
     "ename": "KeyboardInterrupt",
     "evalue": "",
     "output_type": "error",
     "traceback": [
      "\u001b[1;31m---------------------------------------------------------------------------\u001b[0m",
      "\u001b[1;31mKeyboardInterrupt\u001b[0m                         Traceback (most recent call last)",
      "\u001b[1;32mc:\\Users\\lenovo\\Desktop\\File\\PRML\\Assignment2\\2_2\\Assignment2_2.ipynb 单元格 14\u001b[0m line \u001b[0;36m8\n\u001b[0;32m      <a href='vscode-notebook-cell:/c%3A/Users/lenovo/Desktop/File/PRML/Assignment2/2_2/Assignment2_2.ipynb#X16sZmlsZQ%3D%3D?line=4'>5</a>\u001b[0m epoch \u001b[39m=\u001b[39m \u001b[39m10\u001b[39m\n\u001b[0;32m      <a href='vscode-notebook-cell:/c%3A/Users/lenovo/Desktop/File/PRML/Assignment2/2_2/Assignment2_2.ipynb#X16sZmlsZQ%3D%3D?line=6'>7</a>\u001b[0m L2_trainer \u001b[39m=\u001b[39m Trainer(CNN_net, optimizer, loss_fn, epoch)\n\u001b[1;32m----> <a href='vscode-notebook-cell:/c%3A/Users/lenovo/Desktop/File/PRML/Assignment2/2_2/Assignment2_2.ipynb#X16sZmlsZQ%3D%3D?line=7'>8</a>\u001b[0m L2_trainer\u001b[39m.\u001b[39;49mtrain(train_loader, test_loader)\n\u001b[0;32m     <a href='vscode-notebook-cell:/c%3A/Users/lenovo/Desktop/File/PRML/Assignment2/2_2/Assignment2_2.ipynb#X16sZmlsZQ%3D%3D?line=9'>10</a>\u001b[0m train_loss \u001b[39m=\u001b[39m L2_trainer\u001b[39m.\u001b[39mtrain_loss\n\u001b[0;32m     <a href='vscode-notebook-cell:/c%3A/Users/lenovo/Desktop/File/PRML/Assignment2/2_2/Assignment2_2.ipynb#X16sZmlsZQ%3D%3D?line=10'>11</a>\u001b[0m valid_loss \u001b[39m=\u001b[39m L2_trainer\u001b[39m.\u001b[39mvalid_loss\n",
      "File \u001b[1;32mc:\\Users\\lenovo\\Desktop\\File\\PRML\\Assignment2\\2_2\\fdunn\\trainer.py:29\u001b[0m, in \u001b[0;36mTrainer.train\u001b[1;34m(self, train_loader, test_loader)\u001b[0m\n\u001b[0;32m     27\u001b[0m     train_loss_value \u001b[39m+\u001b[39m\u001b[39m=\u001b[39m \u001b[39mself\u001b[39m\u001b[39m.\u001b[39mloss_fn(output, labels)[\u001b[39m0\u001b[39m]\n\u001b[0;32m     28\u001b[0m     \u001b[39mself\u001b[39m\u001b[39m.\u001b[39mloss_fn\u001b[39m.\u001b[39mbackward()\n\u001b[1;32m---> 29\u001b[0m     \u001b[39mself\u001b[39;49m\u001b[39m.\u001b[39;49moptimizer\u001b[39m.\u001b[39;49mstep()\n\u001b[0;32m     31\u001b[0m train_loss_value \u001b[39m/\u001b[39m\u001b[39m=\u001b[39m \u001b[39mlen\u001b[39m(train_loader)\n\u001b[0;32m     32\u001b[0m \u001b[39mself\u001b[39m\u001b[39m.\u001b[39mtrain_loss\u001b[39m.\u001b[39mappend(train_loss_value)\n",
      "File \u001b[1;32mc:\\Users\\lenovo\\Desktop\\File\\PRML\\Assignment2\\2_2\\fdunn\\optim\\Adam.py:51\u001b[0m, in \u001b[0;36mAdam.step\u001b[1;34m(self)\u001b[0m\n\u001b[0;32m     49\u001b[0m     m_hat \u001b[39m=\u001b[39m \u001b[39mself\u001b[39m\u001b[39m.\u001b[39mm[idx][key] \u001b[39m/\u001b[39m (\u001b[39m1\u001b[39m \u001b[39m-\u001b[39m \u001b[39mself\u001b[39m\u001b[39m.\u001b[39mbeta1\u001b[39m*\u001b[39m\u001b[39m*\u001b[39m\u001b[39mself\u001b[39m\u001b[39m.\u001b[39mt)\n\u001b[0;32m     50\u001b[0m     v_hat \u001b[39m=\u001b[39m \u001b[39mself\u001b[39m\u001b[39m.\u001b[39mv[idx][key] \u001b[39m/\u001b[39m (\u001b[39m1\u001b[39m \u001b[39m-\u001b[39m \u001b[39mself\u001b[39m\u001b[39m.\u001b[39mbeta2\u001b[39m*\u001b[39m\u001b[39m*\u001b[39m\u001b[39mself\u001b[39m\u001b[39m.\u001b[39mt)\n\u001b[1;32m---> 51\u001b[0m     \u001b[39mself\u001b[39m\u001b[39m.\u001b[39mmodel\u001b[39m.\u001b[39mlayers[i]\u001b[39m.\u001b[39mparams[key] \u001b[39m-\u001b[39m\u001b[39m=\u001b[39m \u001b[39mself\u001b[39m\u001b[39m.\u001b[39mlr \u001b[39m*\u001b[39m m_hat \u001b[39m/\u001b[39m (np\u001b[39m.\u001b[39;49msqrt(v_hat) \u001b[39m+\u001b[39m \u001b[39mself\u001b[39m\u001b[39m.\u001b[39mepsilon)\n\u001b[0;32m     52\u001b[0m idx \u001b[39m+\u001b[39m\u001b[39m=\u001b[39m \u001b[39m1\u001b[39m\n",
      "\u001b[1;31mKeyboardInterrupt\u001b[0m: "
     ]
    }
   ],
   "source": [
    "from fdunn.optim.Adam import Adam\n",
    "\n",
    "optimizer = Adam(CNN_net)\n",
    "\n",
    "epoch = 10\n",
    "\n",
    "L2_trainer = Trainer(CNN_net, optimizer, loss_fn, epoch)\n",
    "L2_trainer.train(train_loader, test_loader)\n",
    "\n",
    "train_loss = L2_trainer.train_loss\n",
    "valid_loss = L2_trainer.valid_loss\n",
    "valid_scores = L2_trainer.valid_scores\n",
    "\n",
    "x = range(epoch)\n",
    "plt.plot(x, train_loss, label='train loss')\n",
    "plt.plot(x, valid_loss, label='valid loss')\n",
    "plt.title('Loss')\n",
    "plt.xlabel('epoch')\n",
    "plt.ylabel('loss')\n",
    "plt.legend()\n",
    "plt.show()\n",
    "\n",
    "plt.plot(x, valid_scores, label='valid score')\n",
    "plt.title('Accuracy')\n",
    "plt.xlabel('epoch')\n",
    "plt.ylabel('accuracy')\n",
    "plt.legend()\n",
    "plt.show()"
   ]
  }
 ],
 "metadata": {
  "kernelspec": {
   "display_name": "Python 3",
   "language": "python",
   "name": "python3"
  },
  "language_info": {
   "codemirror_mode": {
    "name": "ipython",
    "version": 3
   },
   "file_extension": ".py",
   "mimetype": "text/x-python",
   "name": "python",
   "nbconvert_exporter": "python",
   "pygments_lexer": "ipython3",
   "version": "3.11.5"
  }
 },
 "nbformat": 4,
 "nbformat_minor": 0
}
